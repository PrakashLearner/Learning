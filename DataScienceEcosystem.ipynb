{
 "cells": [
  {
   "cell_type": "markdown",
   "id": "d77ab136-5516-4a0d-bfe8-fffa4242bf01",
   "metadata": {},
   "source": [
    "# Data Science Tools and Ecosystem"
   ]
  },
  {
   "cell_type": "markdown",
   "id": "e4991959-a012-4e19-adeb-bfeb341be8f5",
   "metadata": {},
   "source": [
    "# In this notebook, Data Science Tools and Ecosystem are summarized."
   ]
  },
  {
   "cell_type": "markdown",
   "id": "82a5dd25-07cc-43a6-a303-617a20147f4e",
   "metadata": {},
   "source": [
    "**Intro**\n",
    "- Components of a Data Scientist's toolkit and list various tool categories\n",
    "- Identify the criteria and roles for determining the language to learn\n",
    "- List examples of the various libraries: scientific, visualization, machine learning, and deep learning\n",
    "- List the tasks that a data scientist needs to perform to build a model"
   ]
  },
  {
   "cell_type": "markdown",
   "id": "f5c04089-4941-4365-af0a-d04c0fb11820",
   "metadata": {},
   "source": [
    "# Some of the popular languages that Data Scientists use are:\n",
    "# 1. Julia\n",
    "# 2. Python\n",
    "# 3. R"
   ]
  },
  {
   "cell_type": "markdown",
   "id": "7e28c8ba-8774-4a94-8fb2-8d5ec5d1dc05",
   "metadata": {},
   "source": [
    "# Some of the commonly used libraries used by Data Scientists include:\n",
    "# 1. Seaborn\n",
    "# 2. Keras\n",
    "# 3. Scipy\n",
    "# 4. Plotly"
   ]
  },
  {
   "cell_type": "markdown",
   "id": "ad0a783b-e8ef-4052-ac53-dd0fdbfc57a0",
   "metadata": {},
   "source": [
    "| Data Science Tools |\n",
    "|:------------------:|\n",
    "|  JupyterLab        |\n",
    "|  Visual Studio     |\n",
    "|  Google Collab     |"
   ]
  },
  {
   "cell_type": "markdown",
   "id": "61fd4c9c-2e3d-4c11-864d-b8b568992e3d",
   "metadata": {},
   "source": [
    "### Below are a few examples of evaluating arithmetic expressions in Python"
   ]
  },
  {
   "cell_type": "markdown",
   "id": "ccb62093-19e6-4689-aa9f-6e194accbf1c",
   "metadata": {},
   "source": [
    " This a simple arithmetic expression to mutiply then add integers"
   ]
  },
  {
   "cell_type": "code",
   "execution_count": 2,
   "id": "351f5642-6476-4b11-86d7-aae01501a670",
   "metadata": {
    "tags": []
   },
   "outputs": [
    {
     "data": {
      "text/plain": [
       "17"
      ]
     },
     "execution_count": 2,
     "metadata": {},
     "output_type": "execute_result"
    }
   ],
   "source": [
    "(3*4)+5"
   ]
  },
  {
   "cell_type": "markdown",
   "id": "c15fc44f-f617-49d1-b173-3c6e8e9aa4d8",
   "metadata": {},
   "source": [
    " This will convert 200 minutes to hours by diving by 60"
   ]
  },
  {
   "cell_type": "code",
   "execution_count": 3,
   "id": "3be66b17-0f64-4189-bde2-6042847a1918",
   "metadata": {
    "tags": []
   },
   "outputs": [
    {
     "data": {
      "text/plain": [
       "3.3333333333333335"
      ]
     },
     "execution_count": 3,
     "metadata": {},
     "output_type": "execute_result"
    }
   ],
   "source": [
    "(200/60)"
   ]
  },
  {
   "cell_type": "markdown",
   "id": "5bf1d8d9-25fd-46ec-9c2f-4cffa8f37fda",
   "metadata": {},
   "source": [
    "## Author\n",
    "Prakash"
   ]
  },
  {
   "cell_type": "code",
   "execution_count": null,
   "id": "c1e173b3-5986-41fa-b518-e76f0d7b17d6",
   "metadata": {},
   "outputs": [],
   "source": []
  }
 ],
 "metadata": {
  "kernelspec": {
   "display_name": "Python",
   "language": "python",
   "name": "conda-env-python-py"
  },
  "language_info": {
   "codemirror_mode": {
    "name": "ipython",
    "version": 3
   },
   "file_extension": ".py",
   "mimetype": "text/x-python",
   "name": "python",
   "nbconvert_exporter": "python",
   "pygments_lexer": "ipython3",
   "version": "3.7.12"
  }
 },
 "nbformat": 4,
 "nbformat_minor": 5
}
